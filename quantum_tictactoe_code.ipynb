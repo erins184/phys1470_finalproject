{
 "cells": [
  {
   "cell_type": "code",
   "execution_count": 1,
   "id": "0bdb0cfb-3154-4ec6-80b0-fd3777d60a32",
   "metadata": {
    "tags": []
   },
   "outputs": [
    {
     "name": "stdout",
     "output_type": "stream",
     "text": [
      "Collecting termcolor\n",
      "  Using cached termcolor-2.3.0-py3-none-any.whl (6.9 kB)\n",
      "Installing collected packages: termcolor\n",
      "Successfully installed termcolor-2.3.0\n",
      "\n",
      "\u001b[1m[\u001b[0m\u001b[34;49mnotice\u001b[0m\u001b[1;39;49m]\u001b[0m\u001b[39;49m A new release of pip available: \u001b[0m\u001b[31;49m23.1\u001b[0m\u001b[39;49m -> \u001b[0m\u001b[32;49m23.1.1\u001b[0m\n",
      "\u001b[1m[\u001b[0m\u001b[34;49mnotice\u001b[0m\u001b[1;39;49m]\u001b[0m\u001b[39;49m To update, run: \u001b[0m\u001b[32;49mpip install --upgrade pip\u001b[0m\n",
      "Note: you may need to restart the kernel to use updated packages.\n"
     ]
    }
   ],
   "source": [
    "pip install termcolor"
   ]
  },
  {
   "cell_type": "code",
   "execution_count": 2,
   "id": "b36d9f02-5cd8-4752-89bc-5e3cad2b030a",
   "metadata": {
    "tags": []
   },
   "outputs": [],
   "source": [
    "# Importing standard Qiskit libraries\n",
    "import qiskit \n",
    "from qiskit import QuantumCircuit, transpile\n",
    "\n",
    "from qiskit_aer import AerSimulator\n",
    "from qiskit_ibm_runtime import QiskitRuntimeService, Sampler, Estimator, Session, Options\n",
    "\n",
    "# Loading our IBM Quantum account\n",
    "service = QiskitRuntimeService(channel=\"ibm_quantum\")"
   ]
  },
  {
   "cell_type": "code",
   "execution_count": null,
   "id": "960df121-112b-428b-a071-679a256202ec",
   "metadata": {
    "tags": []
   },
   "outputs": [
    {
     "name": "stdout",
     "output_type": "stream",
     "text": [
      "\n",
      "    ###########################\n",
      "    ### Quantum Tic-Tac-Toe ###\n",
      "    ###########################\n",
      "    \n",
      "\n",
      "    Start Menu:\n",
      "\n",
      "    1. Start Game\n",
      "    2. How to Play\n",
      "    3. Quit\n",
      "    \n",
      "What would you like to do? "
     ]
    },
    {
     "name": "stdin",
     "output_type": "stream",
     "text": [
      " 1\n"
     ]
    },
    {
     "name": "stdout",
     "output_type": "stream",
     "text": [
      "\n",
      " | | \n",
      "-+-+-\n",
      " | | \n",
      "-+-+-\n",
      " | | \n",
      "\n",
      "Figure(162.08x869.556)\n",
      "It's your turn X. Do you want to make a (1) classical move, (2) quantum move, (3) collapse?, or (4) quit?\n"
     ]
    },
    {
     "name": "stdin",
     "output_type": "stream",
     "text": [
      " 2\n"
     ]
    },
    {
     "name": "stdout",
     "output_type": "stream",
     "text": [
      "\n",
      "Which location? (1-9) \n"
     ]
    },
    {
     "name": "stdin",
     "output_type": "stream",
     "text": [
      " 1\n"
     ]
    },
    {
     "name": "stdout",
     "output_type": "stream",
     "text": [
      "Which location? (1-9) \n"
     ]
    },
    {
     "name": "stdin",
     "output_type": "stream",
     "text": [
      " 7\n"
     ]
    },
    {
     "name": "stdout",
     "output_type": "stream",
     "text": [
      "Figure(287.496x869.556)\n",
      "\n",
      "X| | \n",
      "-+-+-\n",
      " | | \n",
      "-+-+-\n",
      "X| | \n",
      "\n",
      "Figure(287.496x869.556)\n",
      "It's your turn O. Do you want to make a (1) classical move, (2) quantum move, (3) collapse?, or (4) quit?\n"
     ]
    },
    {
     "name": "stdin",
     "output_type": "stream",
     "text": [
      " 1\n"
     ]
    },
    {
     "name": "stdout",
     "output_type": "stream",
     "text": [
      "\n",
      "Which location? (1-9) "
     ]
    },
    {
     "name": "stdin",
     "output_type": "stream",
     "text": [
      " 4\n"
     ]
    },
    {
     "name": "stdout",
     "output_type": "stream",
     "text": [
      "Figure(287.496x869.556)\n",
      "\n",
      "X| | \n",
      "-+-+-\n",
      "O| | \n",
      "-+-+-\n",
      "X| | \n",
      "\n",
      "Figure(287.496x869.556)\n",
      "It's your turn X. Do you want to make a (1) classical move, (2) quantum move, (3) collapse?, or (4) quit?\n"
     ]
    },
    {
     "name": "stdin",
     "output_type": "stream",
     "text": [
      " 1\n"
     ]
    },
    {
     "name": "stdout",
     "output_type": "stream",
     "text": [
      "\n",
      "Which location? (1-9) "
     ]
    },
    {
     "name": "stdin",
     "output_type": "stream",
     "text": [
      " 5\n"
     ]
    },
    {
     "name": "stdout",
     "output_type": "stream",
     "text": [
      "Figure(287.496x869.556)\n",
      "\n",
      "X| | \n",
      "-+-+-\n",
      "O|X| \n",
      "-+-+-\n",
      "X| | \n",
      "\n",
      "Figure(287.496x869.556)\n",
      "It's your turn O. Do you want to make a (1) classical move, (2) quantum move, (3) collapse?, or (4) quit?\n"
     ]
    },
    {
     "name": "stdin",
     "output_type": "stream",
     "text": [
      " 2\n"
     ]
    },
    {
     "name": "stdout",
     "output_type": "stream",
     "text": [
      "\n",
      "Which location? (1-9) \n"
     ]
    },
    {
     "name": "stdin",
     "output_type": "stream",
     "text": [
      " 3\n"
     ]
    },
    {
     "name": "stdout",
     "output_type": "stream",
     "text": [
      "Which location? (1-9) \n"
     ]
    },
    {
     "name": "stdin",
     "output_type": "stream",
     "text": [
      " 9\n"
     ]
    },
    {
     "name": "stdout",
     "output_type": "stream",
     "text": [
      "Figure(371.107x869.556)\n",
      "\n",
      "X| |O\n",
      "-+-+-\n",
      "O|X| \n",
      "-+-+-\n",
      "X| |O\n",
      "\n",
      "Figure(371.107x869.556)\n",
      "It's your turn X. Do you want to make a (1) classical move, (2) quantum move, (3) collapse?, or (4) quit?\n"
     ]
    },
    {
     "name": "stdin",
     "output_type": "stream",
     "text": [
      " 3\n"
     ]
    },
    {
     "name": "stderr",
     "output_type": "stream",
     "text": [
      "ibmqfactory.load_account:WARNING:2023-04-26 03:50:13,876: Credentials are already in use. The existing account in the session will be replaced.\n"
     ]
    },
    {
     "name": "stdout",
     "output_type": "stream",
     "text": [
      "\n",
      "X| |O\n",
      "-+-+-\n",
      "O|X| \n",
      "-+-+-\n",
      "X| |O\n",
      "\n",
      "Trigger collapse.\n",
      "\n",
      "Figure(1040x869.556)\n",
      "Job Status: job has successfully run\n",
      "\n",
      "X| |O\n",
      "-+-+-\n",
      "O|X| \n",
      "-+-+-\n",
      " | | \n",
      "\n",
      "Figure(1123.61x869.556)\n",
      "It's your turn X. Do you want to make a (1) classical move, (2) quantum move, (3) collapse?, or (4) quit?\n"
     ]
    },
    {
     "name": "stdin",
     "output_type": "stream",
     "text": [
      " 1\n"
     ]
    },
    {
     "name": "stdout",
     "output_type": "stream",
     "text": [
      "\n",
      "Which location? (1-9) "
     ]
    },
    {
     "name": "stdin",
     "output_type": "stream",
     "text": [
      " 9\n"
     ]
    },
    {
     "name": "stdout",
     "output_type": "stream",
     "text": [
      "Figure(1207.22x869.556)\n",
      "\n",
      "X| |O\n",
      "-+-+-\n",
      "O|X| \n",
      "-+-+-\n",
      " | |X\n",
      "\n",
      "Figure(1207.22x869.556)\n",
      "It's your turn O. Do you want to make a (1) classical move, (2) quantum move, (3) collapse?, or (4) quit?\n"
     ]
    },
    {
     "name": "stdin",
     "output_type": "stream",
     "text": [
      " 2\n"
     ]
    },
    {
     "name": "stdout",
     "output_type": "stream",
     "text": [
      "\n",
      "Which location? (1-9) \n"
     ]
    },
    {
     "name": "stdin",
     "output_type": "stream",
     "text": [
      " 3\n"
     ]
    },
    {
     "name": "stdout",
     "output_type": "stream",
     "text": [
      "Which location? (1-9) \n"
     ]
    },
    {
     "name": "stdin",
     "output_type": "stream",
     "text": [
      " 4\n"
     ]
    },
    {
     "name": "stdout",
     "output_type": "stream",
     "text": [
      "\n",
      "You have selected an invalid position/s\n",
      "\n",
      "Which location? (1-9) \n"
     ]
    },
    {
     "name": "stdin",
     "output_type": "stream",
     "text": [
      " 2\n"
     ]
    },
    {
     "name": "stdout",
     "output_type": "stream",
     "text": [
      "Which location? (1-9) \n"
     ]
    },
    {
     "name": "stdin",
     "output_type": "stream",
     "text": [
      " 6\n"
     ]
    },
    {
     "name": "stdout",
     "output_type": "stream",
     "text": [
      "Figure(1207.22x869.556)\n",
      "\n",
      "X|O|O\n",
      "-+-+-\n",
      "O|X|O\n",
      "-+-+-\n",
      " | |X\n",
      "\n",
      "Figure(1207.22x869.556)\n",
      "It's your turn X. Do you want to make a (1) classical move, (2) quantum move, (3) collapse?, or (4) quit?\n"
     ]
    },
    {
     "name": "stdin",
     "output_type": "stream",
     "text": [
      " 2\n"
     ]
    },
    {
     "name": "stdout",
     "output_type": "stream",
     "text": [
      "\n",
      "Which location? (1-9) \n"
     ]
    },
    {
     "name": "stdin",
     "output_type": "stream",
     "text": [
      " 7\n"
     ]
    },
    {
     "name": "stdout",
     "output_type": "stream",
     "text": [
      "Which location? (1-9) \n"
     ]
    },
    {
     "name": "stdin",
     "output_type": "stream",
     "text": [
      " 8\n"
     ]
    },
    {
     "name": "stdout",
     "output_type": "stream",
     "text": [
      "Figure(1290.83x869.556)\n",
      "\n",
      "X|O|O\n",
      "-+-+-\n",
      "O|X|O\n",
      "-+-+-\n",
      "X|X|X\n",
      "\n",
      "Game Over.\n",
      "\n",
      " **** X won ****\n",
      "\n"
     ]
    }
   ],
   "source": [
    "from termcolor import colored, cprint\n",
    "import json\n",
    "from qiskit import *\n",
    "from qiskit.tools.monitor import job_monitor\n",
    "\n",
    "TOKEN = \"01ccda8f50cca7d342f8a51e7c73edd15c977af1f71af6a2b7744d5df9c4ba60507a6f5458ad9b1480a6b78160f0ede689c3c6e486dfe22526a53a46cfaa973b\"\n",
    "\n",
    "def resetBoard(): #function that wipes the board at the beginning of the game \n",
    "  return {'1': [' ', 0] , '2': [' ', 0], '3': [' ', 0],\n",
    "          '4': [' ', 0], '5': [' ', 0], '6': [' ', 0],\n",
    "          '7': [' ', 0], '8': [' ', 0], '9': [' ', 0]}\n",
    "\n",
    "def printBoard(board): # prints the board so players can see what moves they can make \n",
    "  print()\n",
    "  colour = 0\n",
    "  for i in range (1,10):\n",
    "    if board[str(i)][1] == 0:\n",
    "      cprint(board[str(i)][0], end='')\n",
    "    else:\n",
    "      if (colour == 0 or colour == 1):\n",
    "        cprint(board[str(i)][0], 'red', end='')\n",
    "        colour = colour + 1\n",
    "      elif (colour == 2 or colour == 3):\n",
    "        cprint(board[str(i)][0], 'green', end='')\n",
    "        colour = colour + 1\n",
    "      elif (colour == 4 or colour == 5):\n",
    "        cprint(board[str(i)][0], 'blue', end='')\n",
    "        colour = colour + 1\n",
    "      elif (colour == 6 or colour == 7):\n",
    "        cprint(board[str(i)][0], 'yellow', end='')\n",
    "        colour = colour + 1\n",
    "\n",
    "    if i % 3 == 0:\n",
    "      print()\n",
    "      if i != 9: \n",
    "        print('-+-+-')\n",
    "    else:\n",
    "      cprint('|', end='') \n",
    "\n",
    "def make_classic_move(theBoard, turn, squares, circuit): # classical move: putting an X/O in one square only \n",
    "\n",
    "  valid_move = 0\n",
    "  valid_moves = [\"1\", \"2\", \"3\", \"4\", \"5\", \"6\", \"7\", \"8\", \"9\"] \n",
    "  \n",
    "  while (not valid_move):\n",
    "    print()\n",
    "    print(\"Which location? (1-9) \", end='') \n",
    "    location = input() # Getting input from the user about where they would like to make their classical move\n",
    "\n",
    "    if location in valid_moves: # ensuring that no more than 1 X/O can be in a square at a time \n",
    "        \n",
    "      if theBoard[location][0] == ' ':\n",
    "        valid_move = 1\n",
    "        # set the location's marker\n",
    "        theBoard[location][0] = turn\n",
    "        # increment counter (total markers on board) *when this = 9, collapse the board, also called measurement\n",
    "        squares += 1\n",
    "        # set marker's state (classical or quantum)\n",
    "        theBoard[location][1] = 0 # classical (not flashing on screen)\n",
    "\n",
    "        # For this game, |0> is an empty square and |1> is X/O\n",
    "        # Two circuits; one for X and one for O, are constructed and run separately \n",
    "        \n",
    "        \n",
    "        circuit.x(int(location)-1) # NOT gate used to change state from |0> (blank) to |1> (occupied)\n",
    "\n",
    "        print(circuit.draw())\n",
    "        \n",
    "      else: \n",
    "        print()\n",
    "        print(\"That place is already filled.\")\n",
    "    else:\n",
    "      print(\"Please select a square from 1-9\")\n",
    "\n",
    "  return theBoard, turn, squares, circuit\n",
    "\n",
    "def make_quantum_move(theBoard, squares, circuit, turn): # function to put an X/O in two squares at once\n",
    "\n",
    "  valid_move = False\n",
    "  valid_moves = [\"1\", \"2\", \"3\", \"4\", \"5\", \"6\", \"7\", \"8\", \"9\"]\n",
    "\n",
    "  while (not valid_move):\n",
    "      \n",
    "    print()\n",
    "    print(\"Which location? (1-9) \")\n",
    "    location1 = input()\n",
    "    print(\"Which location? (1-9) \")\n",
    "    location2 = input()\n",
    "\n",
    "    if theBoard[location1][0] == ' ' and theBoard[location2][0] == ' ' and location1 != location2 : # ensuring that the two locations are distict and not already filled \n",
    "        # set the location's marker\n",
    "        \n",
    "        theBoard[location1][0] = turn\n",
    "        theBoard[location2][0] = turn\n",
    "        \n",
    "        # increment counter (total markers on board) *when this = 9, collapse the board, also called measurement\n",
    "        squares += 2\n",
    "        # set marker's state (classical or quantum)\n",
    "        theBoard[location1][1] = 1 # quantum (flashing on screen)\n",
    "        theBoard[location2][1] = 1 # quantum (flashing on screen)\n",
    "\n",
    "\n",
    "        # set qubit[location1], qubit[location2] to superposition/entangled\n",
    "\n",
    "        # Hadamard gate places one of the squares in a superposition of |0> and |1>\n",
    "        circuit.h(int(location1)-1)\n",
    "\n",
    "        # NOT gate flips the other square/qubit to the |1> state \n",
    "        # This is necessary for the CNOT gate to work properly and to ensure that the X/O will occupy either\n",
    "        # one square or the other, not both/neither\n",
    "        circuit.x(int(location2)-1)\n",
    "\n",
    "        # CNOT gate entangles the two squares\n",
    "        # The second square is dependent on what is measured in the first square (which is currently in the |+> state)\n",
    "        # The entangled state of the two squares is now: 1/(sqrt(2))(|01> + |10>)\n",
    "        circuit.cx(int(location1)-1,int(location2)-1)\n",
    "\n",
    "        print(circuit.draw())\n",
    "        valid_move = True\n",
    "    else:\n",
    "        print()\n",
    "        print(\"You have selected an invalid position/s\")\n",
    "    \n",
    "\n",
    "  return theBoard, squares, circuit, turn\n",
    "\n",
    "def measure(circuit, theBoard, squares): # Function if either of the players wants to collapse their superposition at any time\n",
    "  # trigger collapse\n",
    "\n",
    "  printBoard(theBoard)\n",
    "  print()\n",
    "  print(\"Trigger collapse.\")\n",
    "  print()\n",
    "  \n",
    "  IBMQ.load_account()\n",
    "  provider = IBMQ.get_provider(hub = 'ibm-q')\n",
    "  qcomp = provider.get_backend('ibmq_qasm_simulator') # Running the circuit on the IBM simulator due to qubit limitations on IBM processors \n",
    "\n",
    "  circuit.measure(0,0) # measuring each qubit \n",
    "  circuit.measure(1,1)\n",
    "  circuit.measure(2,2)\n",
    "  circuit.measure(3,3)\n",
    "  circuit.measure(4,4)\n",
    "  circuit.measure(5,5)\n",
    "  circuit.measure(6,6)\n",
    "  circuit.measure(7,7)\n",
    "  circuit.measure(8,8)\n",
    "\n",
    "  print(circuit.draw())\n",
    "\n",
    "  # Execute the circuit on a simulator \n",
    "  job = qiskit.execute(circuit, backend=qcomp, shots=1)\n",
    "\n",
    "  job_monitor(job)\n",
    "\n",
    "  # Grab results from the job\n",
    "  result = job.result()\n",
    "\n",
    "  out = json.dumps(result.get_counts()) #Converts the result.get_counts() into a string\n",
    "  string = out[2:11] #Removes unnecessary data from string, leaving us with board\n",
    "\n",
    "  # update board\n",
    "  for i in range(9):\n",
    "      if string[i] == '1':\n",
    "          # cement value in the board\n",
    "          theBoard[str(9-i)][1] = 0\n",
    "      else:\n",
    "          # make square empty\n",
    "          theBoard[str(9-i)][1] = 0\n",
    "          theBoard[str(9-i)][0] = ' ' # Ensuring that each square in the |0> state is empty on the board\n",
    "\n",
    "  # update count (total number of markers on the board)\n",
    "  squares = 0\n",
    "  for i in range(9):\n",
    "      theBoard[str(i+1)][1] = 0\n",
    "      if theBoard[str(i+1)][0] != ' ':\n",
    "          squares += 1\n",
    "\n",
    "  # reset qubits\n",
    "  circuit.reset(0)\n",
    "  circuit.reset(1)\n",
    "  circuit.reset(2)\n",
    "  circuit.reset(3)\n",
    "  circuit.reset(4)\n",
    "  circuit.reset(5)\n",
    "  circuit.reset(6)\n",
    "  circuit.reset(7)\n",
    "  circuit.reset(8)\n",
    "\n",
    "  for i in range(9):\n",
    "      if string[8-i] == '1':\n",
    "          # add pauli x gate\n",
    "          circuit.x(i)\n",
    "\n",
    "  return circuit, string, theBoard, squares\n",
    "\n",
    "def check_win(theBoard, turn): # Checking for 3 Xs/Os in a row!\n",
    "    # This is not done in a loop because the squares are not names by row/col numbers, but rather named from 1-9\n",
    "\n",
    "    if theBoard['7'][0] == theBoard['8'][0] == theBoard['9'][0] != ' ': # across the top\n",
    "      if theBoard['7'][1] == theBoard['8'][1] == theBoard['9'][1] == 0: # only cemented markers\n",
    "          printBoard(theBoard)\n",
    "          print(\"\\nGame Over.\\n\")                \n",
    "          print(\" **** \", end='')\n",
    "          print(theBoard['8'][0], end='')\n",
    "          print(\" won ****\")\n",
    "          print() \n",
    "          return True\n",
    "\n",
    "      elif theBoard['4'][0] == theBoard['5'][0] == theBoard['6'][0] != ' ': # across the middle\n",
    "          if theBoard['4'][1] == theBoard['5'][1] == theBoard['6'][1] == 0: # only cemented markers\n",
    "              printBoard(theBoard)\n",
    "              print(\"\\nGame Over.\\n\")                \n",
    "              print(\" **** \", end='')\n",
    "              print(theBoard['5'][0], end='')\n",
    "              print(\" won ****\")\n",
    "              print()\n",
    "              return True\n",
    "\n",
    "      elif theBoard['1'][0] == theBoard['2'][0] == theBoard['3'][0] != ' ': # across the bottom\n",
    "          if theBoard['1'][1] == theBoard['2'][1] == theBoard['3'][1] == 0: # only cemented markers\n",
    "              printBoard(theBoard)\n",
    "              print(\"\\nGame Over.\\n\")                \n",
    "              print(\" **** \", end='')\n",
    "              print(theBoard['2'][0], end='')\n",
    "              print(\" won ****\")\n",
    "              print()\n",
    "              return True\n",
    "\n",
    "      elif theBoard['1'][0] == theBoard['4'][0] == theBoard['7'][0] != ' ': # down the left side\n",
    "          if theBoard['1'][1] == theBoard['4'][1] == theBoard['7'][1] == 0: # only cemented markers\n",
    "              printBoard(theBoard)\n",
    "              print(\"\\nGame Over.\\n\")                \n",
    "              print(\" **** \", end='')\n",
    "              print(theBoard['4'][0], end='')\n",
    "              print(\" won ****\")\n",
    "              print()\n",
    "              return True\n",
    "\n",
    "      elif theBoard['2'][0] == theBoard['5'][0] == theBoard['8'][0] != ' ': # down the middle\n",
    "          if theBoard['2'][1] == theBoard['5'][1] == theBoard['8'][1] == 0: # only cemented markers\n",
    "              printBoard(theBoard)\n",
    "              print(\"\\nGame Over.\\n\")                \n",
    "              print(\" **** \", end='')\n",
    "              print(theBoard['5'][0], end='')\n",
    "              print(\" won ****\")\n",
    "              print()\n",
    "              return True\n",
    "\n",
    "      elif theBoard['3'][0] == theBoard['6'][0] == theBoard['9'][0] != ' ': # down the right side\n",
    "          if theBoard['3'][1] == theBoard['6'][1] == theBoard['9'][1] == 0: # only cemented markers\n",
    "              printBoard(theBoard)\n",
    "              print(\"\\nGame Over.\\n\")                \n",
    "              print(\" **** \", end='')\n",
    "              print(theBoard['6'][0], end='')\n",
    "              print(\" won ****\")\n",
    "              print()\n",
    "              return True\n",
    "\n",
    "      elif theBoard['7'][0] == theBoard['5'][0] == theBoard['3'][0] != ' ': # diagonal\n",
    "          if theBoard['7'][1] == theBoard['5'][1] == theBoard['3'][1] == 0: # only cemented markers\n",
    "              printBoard(theBoard)\n",
    "              print(\"\\nGame Over.\\n\")                \n",
    "              print(\" **** \", end='')\n",
    "              print(theBoard['5'][0], end='')\n",
    "              print(\" won ****\")\n",
    "              print()\n",
    "              return True\n",
    "\n",
    "      elif theBoard['1'][0] == theBoard['5'][0] == theBoard['9'][0] != ' ': # diagonal\n",
    "          if theBoard['1'][1] == theBoard['5'][1] == theBoard['9'][1] == 0: # only cemented markers\n",
    "              printBoard(theBoard)\n",
    "              print(\"\\nGame Over.\\n\")                \n",
    "              print(\" **** \", end='')\n",
    "              print(theBoard['5'][0], end='')\n",
    "              print(\" won ****\")\n",
    "              print()\n",
    "              return True\n",
    "\n",
    "#Implementation of Two Player Tic-Tac-Toe game in Python.\n",
    "# start game function\n",
    "# Now we'll write the main function which has all the gameplay functionality.\n",
    "\n",
    "\n",
    "def game():\n",
    "\n",
    "    turn = 'X'\n",
    "    squares = 0\n",
    "    win = False\n",
    "    x_collapse = 1\n",
    "    y_collapse = 1\n",
    "\n",
    "    # Initialise quantum circuit with 9 qubits all in the |0> state\n",
    "    circuit = qiskit.QuantumCircuit(9, 9)\n",
    "    \n",
    "\n",
    "    while (not win): # keep running the game until there is a winner \n",
    "\n",
    "        # ============================= ROUND START ============================ \n",
    "        global theBoard\n",
    "        printBoard(theBoard)\n",
    "\n",
    "        print()\n",
    "        print(QuantumCircuit.draw(circuit))\n",
    "        print(\"It's your turn \" + turn + \". Do you want to make a (1) classical move, (2) quantum move, (3) collapse?, or (4) quit?\")\n",
    "\n",
    "        move = input()\n",
    "\n",
    "        # ============================= CLASSIC MOVE ===========================\n",
    "\n",
    "        if int(move) == 1:\n",
    "            theBoard, turn, squares, circuit = make_classic_move(theBoard, turn, squares, circuit)\n",
    "            madeMove = True \n",
    "\n",
    "        # ============================= QUANTUM MOVE ===========================\n",
    "\n",
    "        elif int(move) == 2 and squares > 8:\n",
    "          # cant do a quantum move if there's only 1 empty square left\n",
    "          print()\n",
    "          print(\"There aren't enough empty spaces for that!\")\n",
    "\n",
    "        elif int(move) == 2 and squares < 8:\n",
    "          theBoard, squares, circuit, turn = make_quantum_move(theBoard, squares, circuit, turn)\n",
    "          madeMove = True\n",
    "        \n",
    "        # ============================= COLLAPSE/MEASURE =======================\n",
    "\n",
    "        elif int(move) == 3:\n",
    "\n",
    "          if (turn == 'X' and x_collapse== 1 ):\n",
    "            circuit, string, theBoard, squares = measure(circuit, theBoard, squares) # collapses each X and O board separately \n",
    "            x_collapse = 0\n",
    "          elif (turn == 'O' and y_collapse == 1):\n",
    "            circuit, string, theBoard, squares = measure(circuit, theBoard, squares)\n",
    "            y_collapse = 0\n",
    "          else:\n",
    "            print(\"You have already used your collapse this game!\")\n",
    "\n",
    "        # ============================= QUIT ===================================\n",
    "\n",
    "        elif int(move) == 4:\n",
    "            break\n",
    "        \n",
    "        # ============================= CHECK FOR WIN ==========================\n",
    "\n",
    "        # Now we will check if player X or O has won,for every move  \n",
    "        if squares >= 5:\n",
    "          win = check_win(theBoard, turn)\n",
    "          if (win):\n",
    "            break\n",
    "\n",
    "\n",
    "\n",
    "        # If neither X nor O wins and the board is full, we'll declare the result as 'tie'.\n",
    "        if squares == 9:\n",
    "          circuit, string, theBoard, squares = measure(circuit, theBoard, squares)\n",
    "          win = check_win(theBoard, turn)\n",
    "          if squares == 9:\n",
    "            print(\"\\nGame Over.\\n\")                \n",
    "            print(\"It's a Tie !\")\n",
    "            print()\n",
    "            win = True\n",
    "          \n",
    "\n",
    "\n",
    "        # Now we have to change the player after every move.\n",
    "        if  (madeMove):  \n",
    "          madeMove = False\n",
    "          if turn =='X':\n",
    "              turn = 'O'\n",
    "          else:\n",
    "              turn = 'X'        \n",
    "    \n",
    "\n",
    "    # Now we will ask if player wants to restart the game or not.\n",
    "    restart = input(\"Play Again?(y/n) \")\n",
    "    if restart == \"y\" or restart == \"Y\":\n",
    "\n",
    "        theBoard = resetBoard()\n",
    "        game()\n",
    "\n",
    "def start_menu():\n",
    "    start_menu = \"\"\"\n",
    "    Start Menu:\n",
    "\n",
    "    1. Start Game\n",
    "    2. How to Play\n",
    "    3. Quit\n",
    "    \"\"\" \n",
    "    \n",
    "    print(\"\"\"\n",
    "    ###########################\n",
    "    ### Quantum Tic-Tac-Toe ###\n",
    "    ###########################\n",
    "    \"\"\")\n",
    "    print(start_menu)\n",
    "    choice = 0\n",
    "    while (choice != '1'):\n",
    "      print(\"What would you like to do? \", end='')\n",
    "      choice = input()\n",
    "\n",
    "      if (choice == '2'):\n",
    "        How_To = \"\"\" \n",
    "        In Quantum Tic-Tac-Toe, each square starts empty and your goal is to create a line of three of your naughts/crosses. \n",
    "        Playing a classical move will result in setting a square permanently as your piece.\n",
    "        Playing a quantum move will create a superposition between two squares of your choosing. You may only complete a quantum move in two empty squares.\n",
    "        The board will collapse when the board is full. At collapse, each superposition is viewed and only 1 piece of the superposition will remain. \n",
    "        *Powerup* Each player can decide to collapse the board prematurely, they may do this once per round each.\n",
    "        \"\"\"\n",
    "        print(How_To)\n",
    "\n",
    "      if (choice == '3'):\n",
    "        print(\"Goodbye\")\n",
    "        break\n",
    "      \n",
    "    return choice\n",
    "\n",
    "#Reset the board at start\n",
    "theBoard = resetBoard()\n",
    "\n",
    "#Set no moves made yet\n",
    "if (start_menu() == '1'):  \n",
    "  madeMove = False\n",
    "  game()"
   ]
  },
  {
   "cell_type": "code",
   "execution_count": 14,
   "id": "586fcee2-85dd-44e3-8344-211cfa8dca17",
   "metadata": {},
   "outputs": [
    {
     "name": "stdout",
     "output_type": "stream",
     "text": [
      "Traceback \u001b[1;36m(most recent call last)\u001b[0m:\n",
      "\u001b[1;36m  Cell \u001b[1;32mIn[14], line 1\u001b[1;36m\n",
      "\u001b[1;33m    QuantumCircuit.draw(circuit)\u001b[1;36m\n",
      "\u001b[1;31mNameError\u001b[0m\u001b[1;31m:\u001b[0m name 'circuit' is not defined\n",
      "\n",
      "Use %tb to get the full traceback.\n"
     ]
    },
    {
     "data": {
      "text/html": [
       "\n",
       "<style>\n",
       ".button {\n",
       "  border: none;\n",
       "  color: white;\n",
       "  padding: 4px 8px;\n",
       "  text-align: center;\n",
       "  text-decoration: none;\n",
       "  display: inline-block;\n",
       "  font-size: 12px;\n",
       "  margin: 4px 2px;\n",
       "  transition-duration: 0.2s;\n",
       "  cursor: pointer;\n",
       "}\n",
       ".iqx-button {\n",
       "  background-color: #0f62fe; \n",
       "  color: white; \n",
       "}\n",
       ".iqx-button:hover {\n",
       "  background-color: #0043ce;\n",
       "  color: white;\n",
       "}\n",
       "</style>\n",
       "<a href=\"https://stackoverflow.com/search?q=NameError: name 'circuit' is not defined\" target='_blank'><button class='button iqx-button'>Search for solution online</button></a>\n"
      ],
      "text/plain": [
       "<IPython.core.display.HTML object>"
      ]
     },
     "metadata": {},
     "output_type": "display_data"
    }
   ],
   "source": [
    "QuantumCircuit.draw(circuit)"
   ]
  },
  {
   "cell_type": "code",
   "execution_count": null,
   "id": "05ff9ce7-4a6f-4ad5-8073-4a1cdef8c8ea",
   "metadata": {},
   "outputs": [],
   "source": []
  }
 ],
 "metadata": {
  "kernelspec": {
   "display_name": "Python 3 (ipykernel)",
   "language": "python",
   "name": "python3"
  },
  "language_info": {
   "codemirror_mode": {
    "name": "ipython",
    "version": 3
   },
   "file_extension": ".py",
   "mimetype": "text/x-python",
   "name": "python",
   "nbconvert_exporter": "python",
   "pygments_lexer": "ipython3",
   "version": "3.10.8"
  },
  "widgets": {
   "application/vnd.jupyter.widget-state+json": {
    "state": {},
    "version_major": 2,
    "version_minor": 0
   }
  }
 },
 "nbformat": 4,
 "nbformat_minor": 5
}
